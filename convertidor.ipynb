{
 "cells": [
  {
   "cell_type": "code",
   "execution_count": 1,
   "metadata": {},
   "outputs": [],
   "source": [
    "import pandas as pd"
   ]
  },
  {
   "cell_type": "code",
   "execution_count": 2,
   "metadata": {},
   "outputs": [],
   "source": [
    "# Archivos Excel para Cargar en las tablas de la Base de Datos posgres\n",
    "\n",
    "datos_colon = pd.read_excel(\"ArchivosExcel/EducacionColon.xlsx\", sheet_name=\"TotalEducacionColon\")\n",
    "\n",
    "datos_ischilin = pd.read_excel(\"ArchivosExcel/EducacionIschilin.xlsx\", sheet_name=\"TotalEducacionIschilin\")\n",
    "\n",
    "datos_totoral = pd.read_excel(\"ArchivosExcel/EducacionTotoral.xlsx\", sheet_name=\"TotalEducacionTotoral\")\n",
    "\n",
    "datos_tulumba = pd.read_excel(\"ArchivosExcel/EducacionTulumba.xlsx\", sheet_name=\"TotalEducacionTulumba\")"
   ]
  },
  {
   "cell_type": "code",
   "execution_count": 6,
   "metadata": {},
   "outputs": [
    {
     "name": "stdout",
     "output_type": "stream",
     "text": [
      "Conexión Exitosa\n",
      "Datos cargados con éxito\n"
     ]
    }
   ],
   "source": [
    "import conect\n",
    "import logging\n",
    "\n",
    "\n",
    "def cargar_datos_en_base_de_datos():\n",
    "    try:\n",
    "        # Conectar a la base de datos\n",
    "        conexion = conect.connect_to_db()\n",
    "        \n",
    "        if conexion is None:\n",
    "            raise Exception(\"No se pudo conectar a la base de datos\")\n",
    "        \n",
    "        # Archivos Excel\n",
    "        archivos_excel = [\n",
    "            (\"ArchivosExcel/EducacionColon.xlsx\", \"TotalEducacionColon\", \"datos_educ_colon\"),\n",
    "            (\"ArchivosExcel/EducacionIschilin.xlsx\", \"TotalEducacionIschilin\", \"datos_educ_ischilin\"),\n",
    "            (\"ArchivosExcel/EducacionTotoral.xlsx\", \"TotalEducacionTotoral\", \"datos_educ_totoral\"),\n",
    "            (\"ArchivosExcel/EducacionTulumba.xlsx\", \"TotalEducacionTulumba\", \"datos_educ_tulumba\")\n",
    "        ]\n",
    "        \n",
    "        # Cursor\n",
    "        cur = conexion.cursor()\n",
    "        \n",
    "        # Iterar sobre los archivos Excel\n",
    "        for archivo, sheet_name, tabla in archivos_excel:\n",
    "            try:\n",
    "                # Leer archivo Excel\n",
    "                datos = pd.read_excel(archivo, sheet_name=sheet_name)\n",
    "                \n",
    "                # Crear lista de tuplas\n",
    "                data = [tuple(row) for row in datos.values]\n",
    "                \n",
    "                # Insertar datos en tabla\n",
    "                cur.executemany(f\"\"\"\n",
    "                    INSERT INTO {tabla} VALUES ({','.join(['%s'] * len(datos.columns))})\n",
    "                \"\"\", data)\n",
    "            \n",
    "            except pd.errors.EmptyDataError:\n",
    "                logging.warning(f\"Archivo {archivo} está vacío\")\n",
    "            \n",
    "            except pd.errors.ParserError as e:\n",
    "                logging.error(f\"Error al parsear archivo {archivo}: {e}\")\n",
    "            \n",
    "            except Exception as e:\n",
    "                logging.error(f\"Error al cargar datos en tabla {tabla}: {e}\")\n",
    "        \n",
    "        # Commit de los cambios\n",
    "        conexion.commit()\n",
    "        \n",
    "        # Cerrar cursor y conexión\n",
    "        cur.close()\n",
    "        conexion.close()\n",
    "        \n",
    "        print(\"Datos cargados con éxito\")\n",
    "    \n",
    "    except Exception as e:\n",
    "        logging.error(f\"Error general: {e}\")\n",
    "        print(\"No se pudo cargar los datos\")\n",
    "\n",
    "\n",
    "cargar_datos_en_base_de_datos()"
   ]
  }
 ],
 "metadata": {
  "kernelspec": {
   "display_name": "dataload",
   "language": "python",
   "name": "python3"
  },
  "language_info": {
   "codemirror_mode": {
    "name": "ipython",
    "version": 3
   },
   "file_extension": ".py",
   "mimetype": "text/x-python",
   "name": "python",
   "nbconvert_exporter": "python",
   "pygments_lexer": "ipython3",
   "version": "3.10.6"
  }
 },
 "nbformat": 4,
 "nbformat_minor": 2
}
